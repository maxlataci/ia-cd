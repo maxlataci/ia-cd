{
 "nbformat": 4,
 "nbformat_minor": 2,
 "metadata": {
  "language_info": {
   "name": "python",
   "codemirror_mode": {
    "name": "ipython",
    "version": 3
   }
  },
  "orig_nbformat": 2,
  "file_extension": ".py",
  "mimetype": "text/x-python",
  "name": "python",
  "npconvert_exporter": "python",
  "pygments_lexer": "ipython3",
  "version": 3
 },
 "cells": [
  {
   "cell_type": "code",
   "execution_count": 1,
   "metadata": {},
   "outputs": [
    {
     "name": "stdout",
     "output_type": "stream",
     "text": "FIM\n"
    }
   ],
   "source": [
    "# cria arquivo destino com 'limite' linhas a partir do arquivo origem\n",
    "limite = 15000\n",
    "arquivo_origem = \"D:/Google Drive/IA&CD/Projetos/20191128 - Projeto 1/enem-2016/microdados_enem_2016_coma.csv\" # disponível em https://www.kaggle.com/gbonesso/enem-2016. Possui 8.627.368 linhas\n",
    "arquivo_destino = arquivo_origem.replace(\".\", \"_\" + str(limite) + \".\")\n",
    "i = 0\n",
    "\n",
    "origem = open(arquivo_origem, \"r\")\n",
    "destino = open(arquivo_destino, \"w\")\n",
    "\n",
    "for linha in origem:\n",
    "    destino.write(linha)\n",
    "    i += 1\n",
    "    if (i > limite):\n",
    "        break\n",
    "\n",
    "origem.close()\n",
    "destino.close()\n",
    "print(\"FIM\")\n"
   ]
  }
 ]
}